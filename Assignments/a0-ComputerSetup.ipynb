{
  "cells": [
    {
      "cell_type": "markdown",
      "metadata": {
        "deletable": false,
        "editable": false,
        "nbgrader": {
          "cell_type": "markdown",
          "checksum": "53aff5be5346ba22074d16dc3deaf1f7",
          "grade": false,
          "grade_id": "cell-c0b2605705acf23e",
          "locked": true,
          "schema_version": 3,
          "solution": false
        },
        "id": "iBT1oJSvrQjv"
      },
      "source": [
        "# Assignment 0: Tools & setting up your computer\n",
        "\n",
        "This assignment checks that you can access our assignments and will familiarize you with submitting assignments via NBGrader. It will also ask that you watch a video and write a short reflection.\n",
        "\n",
        "\n",
        "**PLEASE DO NOT CHANGE THE NAME OF THIS FILE.**\n",
        "\n",
        "**PLEASE DO NOT COPY & PASTE OR DELETE CELLS INCLUDED IN THE ASSIGNMENT.**\n",
        "\n",
        "\n",
        "## How to complete assignments\n",
        "\n",
        "Whenever you see:\n",
        "\n",
        "```\n",
        "# YOUR CODE HERE\n",
        "raise NotImplementedError()\n",
        "```\n",
        "\n",
        "You need to **replace (in other words, delete) these lines of code with code that answers the questions** and meets the specified criteria. Make sure you remove the 'raise' line when you do this (or your notebook will raise an error, regardless of any other code, and thus fail the grading tests).\n",
        "\n",
        "You should write the answer to the questions in those cells (the ones with `# YOUR CODE HERE`), but you can also add extra cells to explore / investigate things if you need / want to.\n",
        "\n",
        "Any cell with `assert` statements in it is a test cell. You should not try to change or delete these cells. Note that there might be more than one assert that tests a particular question.\n",
        "\n",
        "If a test does fail, reading the error that is printed out should let you know which test failed, which may be useful for fixing it.\n",
        "\n",
        "Note that some cells, including the test cells, may be read only, which means they won't let you edit them. If you cannot edit a cell - that is normal, and you shouldn't need to edit that cell."
      ]
    },
    {
      "cell_type": "markdown",
      "metadata": {
        "deletable": false,
        "editable": false,
        "nbgrader": {
          "cell_type": "markdown",
          "checksum": "4d3e766df7700bd62e7566915337dbb6",
          "grade": false,
          "grade_id": "cell-201b22a99b2f74d7",
          "locked": true,
          "schema_version": 3,
          "solution": false
        },
        "id": "y1fTjEWvrQjx"
      },
      "source": [
        "## Q1\n",
        "\n",
        "Create a variable called `my_name`, and assign a string to it that is your preferred name. In other words, enter `my_name = 'name'`. Be sure to put your name in single quotes, e.g., `'Ashley'`."
      ]
    },
    {
      "cell_type": "code",
      "execution_count": 2,
      "metadata": {
        "deletable": false,
        "nbgrader": {
          "cell_type": "code",
          "checksum": "2231f91f593f763ecebf7f665561330b",
          "grade": false,
          "grade_id": "cell-4995bf24615505c5",
          "locked": false,
          "schema_version": 3,
          "solution": true
        },
        "id": "HeSUQwevrQjx"
      },
      "outputs": [],
      "source": [
        "my_name = 'Stella'"
      ]
    },
    {
      "cell_type": "code",
      "execution_count": 10,
      "metadata": {
        "deletable": false,
        "editable": false,
        "nbgrader": {
          "cell_type": "code",
          "checksum": "ca0dcbb293d58b73dfab73755de678c4",
          "grade": true,
          "grade_id": "cell-14c71d611db9757d",
          "locked": true,
          "points": 5,
          "schema_version": 3,
          "solution": false,
          "task": false
        },
        "id": "a6wNhGgNrQjy"
      },
      "outputs": [],
      "source": [
        "## TESTS FOR Q1, worth 2 points\n",
        "# This is a test cell. It checks that the code you wrote does what it's supposed to.\n",
        "# You can use the information in this cell to make sure you've met the expectations for the question.\n",
        "assert  my_name                     # This tests that a variable \"my_name\" exists\n",
        "assert  isinstance(my_name, str)    # isinstance() tests that \"my_name\" is of a particular type (here, a string)"
      ]
    },
    {
      "cell_type": "markdown",
      "metadata": {
        "deletable": false,
        "editable": false,
        "nbgrader": {
          "cell_type": "markdown",
          "checksum": "0d89439f8aac86f2a3ac16d3fb984ad4",
          "grade": false,
          "grade_id": "cell-201b22a99b2f74d8",
          "locked": true,
          "schema_version": 3,
          "solution": false
        },
        "id": "KqfC9dBVrQjy"
      },
      "source": [
        "## Q2\n",
        "\n",
        "Create a variable called `siblings`, and assign a list to it that is your list of siblings. Each item in the list should be one of your sibling's names. If you have one sibling, it will be a list with one item. If you are an only child, create an empty list."
      ]
    },
    {
      "cell_type": "code",
      "execution_count": 13,
      "metadata": {
        "deletable": false,
        "nbgrader": {
          "cell_type": "code",
          "checksum": "f576a5cad9998c2136b1b6230d503fd6",
          "grade": false,
          "grade_id": "cell-4995bf24615505c6",
          "locked": false,
          "schema_version": 3,
          "solution": true
        },
        "id": "29pusLMBrQjy"
      },
      "outputs": [],
      "source": [
        "siblings = 'Johnny,Hayk'"
      ]
    },
    {
      "cell_type": "code",
      "execution_count": 15,
      "metadata": {
        "deletable": false,
        "editable": false,
        "nbgrader": {
          "cell_type": "code",
          "checksum": "f3be6d0ba35ad01458f8672472deeaa5",
          "grade": true,
          "grade_id": "cell-4995bf24615505c7",
          "locked": true,
          "points": 5,
          "schema_version": 3,
          "solution": false,
          "task": false
        },
        "id": "5Rz6FOSarQjy"
      },
      "outputs": [],
      "source": [
        "## TESTS FOR Q2, worth 5 points\n",
        "# This is cell with both visible AND hidden tests. You can see the first test below:\n",
        "assert siblings\n"
      ]
    },
    {
      "cell_type": "markdown",
      "metadata": {
        "deletable": false,
        "editable": false,
        "nbgrader": {
          "cell_type": "markdown",
          "checksum": "046377bb37762de45648f317a17ae8b6",
          "grade": false,
          "grade_id": "cell-0b7e548919dbf0ea",
          "locked": true,
          "schema_version": 3,
          "solution": false
        },
        "id": "Hj01fKYArQjy"
      },
      "source": [
        "## Q3\n",
        "Occasionally, we'll use these notebooks to ask multiple choice questions. When you respond to a multiple choice question, **be sure to put your response in single quotation marks, the way you did in Q1**.\n",
        "\n",
        "For example, if you wanted to respond \"A\", you should write `Q3 = 'A'`\n",
        "\n",
        "Respond to the question below:\n",
        "\n",
        "What is the **kernel**?\n",
        "\n",
        "- A) a list of the variables stored in Python memory\n",
        "- B) where your code runs; your Jupyter notebook is connected to the kernel\n",
        "- C) an object that returns a string\n",
        "- D) a way to specify that you are using math variables and not programming variables"
      ]
    },
    {
      "cell_type": "code",
      "execution_count": null,
      "metadata": {
        "deletable": false,
        "nbgrader": {
          "cell_type": "code",
          "checksum": "b95ef1c2a0767ef13a2ee17f5de39d75",
          "grade": false,
          "grade_id": "cell-8d20cdb4d0f455ff",
          "locked": false,
          "schema_version": 3,
          "solution": true
        },
        "id": "K6RU-APprQjy"
      },
      "outputs": [],
      "source": [
        "# YOUR CODE HERE\n",
        "raise NotImplementedError()"
      ]
    },
    {
      "cell_type": "code",
      "execution_count": null,
      "metadata": {
        "deletable": false,
        "editable": false,
        "nbgrader": {
          "cell_type": "code",
          "checksum": "1a9b18e3947fe67427f5f71838b5305b",
          "grade": true,
          "grade_id": "cell-e986bfb4e19f48c3",
          "locked": true,
          "points": 5,
          "schema_version": 3,
          "solution": false
        },
        "id": "_3Xz2PknrQjy"
      },
      "outputs": [],
      "source": [
        "## TESTS FOR Q3, worth 5 points [Note: Includes A Hidden Test]\n",
        "assert Q3\n"
      ]
    },
    {
      "cell_type": "markdown",
      "metadata": {
        "deletable": false,
        "editable": false,
        "nbgrader": {
          "cell_type": "markdown",
          "checksum": "0d5cccdf6af3db213506c7773953ba7a",
          "grade": false,
          "grade_id": "cell-8b0dc1e2dd78b70d",
          "locked": true,
          "schema_version": 3,
          "solution": false
        },
        "id": "PAsWGmQarQjz"
      },
      "source": [
        "## Q4\n",
        "\n",
        "Write code below that\n",
        "1. Assigns the value \"2\" to `a`\n",
        "2. Assigns the value \"4\" to `b`\n",
        "3. Multiplies `a` times `b` and saves it as a variable, `c`."
      ]
    },
    {
      "cell_type": "code",
      "execution_count": null,
      "metadata": {
        "deletable": false,
        "nbgrader": {
          "cell_type": "code",
          "checksum": "76a4800e29466d648adef2a09b4f15d7",
          "grade": false,
          "grade_id": "cell-3d608ef3ac4ec904",
          "locked": false,
          "schema_version": 3,
          "solution": true
        },
        "id": "WfFvEKUlrQjz"
      },
      "outputs": [],
      "source": [
        "# YOUR CODE HERE\n",
        "raise NotImplementedError()"
      ]
    },
    {
      "cell_type": "code",
      "execution_count": null,
      "metadata": {
        "deletable": false,
        "editable": false,
        "nbgrader": {
          "cell_type": "code",
          "checksum": "757aa4446a83df3e1fdcff5db1f04605",
          "grade": true,
          "grade_id": "cell-6de2e461718a7ec4",
          "locked": true,
          "points": 10,
          "schema_version": 3,
          "solution": false
        },
        "id": "wASuVR7rrQjz"
      },
      "outputs": [],
      "source": [
        "## TESTS FOR Q4, worth 10 points [Note: Hidden Tests.]\n",
        "assert a and b and c\n"
      ]
    },
    {
      "cell_type": "markdown",
      "metadata": {
        "deletable": false,
        "editable": false,
        "nbgrader": {
          "cell_type": "markdown",
          "checksum": "34d825e6d821945c6859772d0409096f",
          "grade": false,
          "grade_id": "cell-57e97feda6f15620",
          "locked": true,
          "schema_version": 3,
          "solution": false
        },
        "id": "lT4RnNRurQjz"
      },
      "source": [
        "## Q5\n",
        "Which of these are valid ways to interact with Python? Create a variable `Q5` and assign your answer to it.\n",
        "- A) By typing into the terminal\n",
        "- B) Running scripts from the terminal\n",
        "- C) An integrated development environment\n",
        "- D) All of the above"
      ]
    },
    {
      "cell_type": "code",
      "execution_count": null,
      "metadata": {
        "deletable": false,
        "nbgrader": {
          "cell_type": "code",
          "checksum": "c0a2776f06b3b44f6c75690f06fe5cdb",
          "grade": false,
          "grade_id": "cell-9e5ee257e7bd6c04",
          "locked": false,
          "schema_version": 3,
          "solution": true
        },
        "id": "rA-jSUAvrQjz"
      },
      "outputs": [],
      "source": [
        "# YOUR CODE HERE\n",
        "raise NotImplementedError()"
      ]
    },
    {
      "cell_type": "code",
      "execution_count": null,
      "metadata": {
        "deletable": false,
        "editable": false,
        "nbgrader": {
          "cell_type": "code",
          "checksum": "74f4a6fc61944bab00259ac31cb0285a",
          "grade": true,
          "grade_id": "cell-6465227207217eba",
          "locked": true,
          "points": 5,
          "schema_version": 3,
          "solution": false
        },
        "id": "MZPmfnvyrQjz"
      },
      "outputs": [],
      "source": [
        "## TESTS FOR Q5, worth 5 points [Note: Includes A Hidden Test]\n",
        "assert Q5\n"
      ]
    },
    {
      "cell_type": "markdown",
      "metadata": {
        "deletable": false,
        "editable": false,
        "nbgrader": {
          "cell_type": "markdown",
          "checksum": "9084c8893870cd69ea226e814ef979ae",
          "grade": false,
          "grade_id": "cell-ebbb8bcaba86db19",
          "locked": true,
          "schema_version": 3,
          "solution": false,
          "task": false
        },
        "id": "cXwlDpZUrQjz"
      },
      "source": [
        "## Q6\n",
        "\n",
        "Watch the [introductory \"Programming Growth\" video](https://youtu.be/DXauokrO4FE?si=8VKeU5Lu5qIBP66h) and write a 200-word reflection in the markdown box below. In other words, what did you learn? Did this challenge, extend, or confirm your ideas about the use of coding in biology? (*20 points for a complete answer*)"
      ]
    },
    {
      "cell_type": "markdown",
      "metadata": {
        "deletable": false,
        "nbgrader": {
          "cell_type": "markdown",
          "checksum": "959de51c74b2395dfa54933f0bc2e977",
          "grade": true,
          "grade_id": "cell-65ddeb460a0ad326",
          "locked": false,
          "points": 20,
          "schema_version": 3,
          "solution": true,
          "task": false
        },
        "id": "trc_S4WqrQjz"
      },
      "source": [
        "YOUR ANSWER HERE"
      ]
    }
  ],
  "metadata": {
    "kernelspec": {
      "display_name": "Python 3 (ipykernel)",
      "language": "python",
      "name": "python3"
    },
    "language_info": {
      "codemirror_mode": {
        "name": "ipython",
        "version": 3
      },
      "file_extension": ".py",
      "mimetype": "text/x-python",
      "name": "python",
      "nbconvert_exporter": "python",
      "pygments_lexer": "ipython3",
      "version": "3.11.9"
    },
    "colab": {
      "provenance": []
    }
  },
  "nbformat": 4,
  "nbformat_minor": 0
}